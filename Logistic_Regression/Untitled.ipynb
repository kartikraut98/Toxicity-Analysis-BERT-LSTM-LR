{
 "cells": [
  {
   "cell_type": "code",
   "execution_count": 13,
   "id": "7721d541",
   "metadata": {},
   "outputs": [
    {
     "name": "stdout",
     "output_type": "stream",
     "text": [
      "Defaulting to user installation because normal site-packages is not writeable\n",
      "Requirement already satisfied: huggingface_hub in c:\\users\\yesit\\appdata\\roaming\\python\\python312\\site-packages (0.26.2)\n",
      "Requirement already satisfied: datasets in c:\\users\\yesit\\appdata\\roaming\\python\\python312\\site-packages (3.1.0)\n",
      "Requirement already satisfied: filelock in c:\\users\\yesit\\appdata\\roaming\\python\\python312\\site-packages (from huggingface_hub) (3.16.1)\n",
      "Requirement already satisfied: fsspec>=2023.5.0 in c:\\users\\yesit\\appdata\\roaming\\python\\python312\\site-packages (from huggingface_hub) (2024.9.0)\n",
      "Requirement already satisfied: packaging>=20.9 in c:\\users\\yesit\\appdata\\roaming\\python\\python312\\site-packages (from huggingface_hub) (23.2)\n",
      "Requirement already satisfied: pyyaml>=5.1 in c:\\users\\yesit\\appdata\\roaming\\python\\python312\\site-packages (from huggingface_hub) (6.0.1)\n",
      "Requirement already satisfied: requests in c:\\users\\yesit\\appdata\\roaming\\python\\python312\\site-packages (from huggingface_hub) (2.32.3)\n",
      "Requirement already satisfied: tqdm>=4.42.1 in c:\\users\\yesit\\appdata\\roaming\\python\\python312\\site-packages (from huggingface_hub) (4.66.5)\n",
      "Requirement already satisfied: typing-extensions>=3.7.4.3 in c:\\users\\yesit\\appdata\\roaming\\python\\python312\\site-packages (from huggingface_hub) (4.10.0)\n",
      "Requirement already satisfied: numpy>=1.17 in c:\\users\\yesit\\appdata\\roaming\\python\\python312\\site-packages (from datasets) (1.26.4)\n",
      "Requirement already satisfied: pyarrow>=15.0.0 in c:\\users\\yesit\\appdata\\roaming\\python\\python312\\site-packages (from datasets) (15.0.1)\n",
      "Requirement already satisfied: dill<0.3.9,>=0.3.0 in c:\\users\\yesit\\appdata\\roaming\\python\\python312\\site-packages (from datasets) (0.3.8)\n",
      "Requirement already satisfied: pandas in c:\\users\\yesit\\appdata\\roaming\\python\\python312\\site-packages (from datasets) (2.2.1)\n",
      "Requirement already satisfied: xxhash in c:\\users\\yesit\\appdata\\roaming\\python\\python312\\site-packages (from datasets) (3.5.0)\n",
      "Requirement already satisfied: multiprocess<0.70.17 in c:\\users\\yesit\\appdata\\roaming\\python\\python312\\site-packages (from datasets) (0.70.16)\n",
      "Requirement already satisfied: aiohttp in c:\\users\\yesit\\appdata\\roaming\\python\\python312\\site-packages (from datasets) (3.9.3)\n",
      "Requirement already satisfied: aiosignal>=1.1.2 in c:\\users\\yesit\\appdata\\roaming\\python\\python312\\site-packages (from aiohttp->datasets) (1.3.1)\n",
      "Requirement already satisfied: attrs>=17.3.0 in c:\\users\\yesit\\appdata\\roaming\\python\\python312\\site-packages (from aiohttp->datasets) (23.2.0)\n",
      "Requirement already satisfied: frozenlist>=1.1.1 in c:\\users\\yesit\\appdata\\roaming\\python\\python312\\site-packages (from aiohttp->datasets) (1.4.1)\n",
      "Requirement already satisfied: multidict<7.0,>=4.5 in c:\\users\\yesit\\appdata\\roaming\\python\\python312\\site-packages (from aiohttp->datasets) (6.0.5)\n",
      "Requirement already satisfied: yarl<2.0,>=1.0 in c:\\users\\yesit\\appdata\\roaming\\python\\python312\\site-packages (from aiohttp->datasets) (1.9.4)\n",
      "Requirement already satisfied: charset-normalizer<4,>=2 in c:\\users\\yesit\\appdata\\roaming\\python\\python312\\site-packages (from requests->huggingface_hub) (3.3.2)\n",
      "Requirement already satisfied: idna<4,>=2.5 in c:\\users\\yesit\\appdata\\roaming\\python\\python312\\site-packages (from requests->huggingface_hub) (3.6)\n",
      "Requirement already satisfied: urllib3<3,>=1.21.1 in c:\\users\\yesit\\appdata\\roaming\\python\\python312\\site-packages (from requests->huggingface_hub) (2.2.1)\n",
      "Requirement already satisfied: certifi>=2017.4.17 in c:\\users\\yesit\\appdata\\roaming\\python\\python312\\site-packages (from requests->huggingface_hub) (2024.2.2)\n",
      "Requirement already satisfied: colorama in c:\\users\\yesit\\appdata\\roaming\\python\\python312\\site-packages (from tqdm>=4.42.1->huggingface_hub) (0.4.6)\n",
      "Requirement already satisfied: python-dateutil>=2.8.2 in c:\\users\\yesit\\appdata\\roaming\\python\\python312\\site-packages (from pandas->datasets) (2.9.0.post0)\n",
      "Requirement already satisfied: pytz>=2020.1 in c:\\users\\yesit\\appdata\\roaming\\python\\python312\\site-packages (from pandas->datasets) (2024.1)\n",
      "Requirement already satisfied: tzdata>=2022.7 in c:\\users\\yesit\\appdata\\roaming\\python\\python312\\site-packages (from pandas->datasets) (2024.1)\n",
      "Requirement already satisfied: six>=1.5 in c:\\users\\yesit\\appdata\\roaming\\python\\python312\\site-packages (from python-dateutil>=2.8.2->pandas->datasets) (1.16.0)\n",
      "Note: you may need to restart the kernel to use updated packages.\n"
     ]
    }
   ],
   "source": [
    "pip install huggingface_hub datasets"
   ]
  },
  {
   "cell_type": "code",
   "execution_count": 10,
   "id": "68745744",
   "metadata": {},
   "outputs": [
    {
     "name": "stdout",
     "output_type": "stream",
     "text": [
      "<class 'datasets.dataset_dict.DatasetDict'>\n"
     ]
    },
    {
     "data": {
      "text/plain": [
       "DatasetDict({\n",
       "    train: Dataset({\n",
       "        features: ['text', 'toxicity', 'severe_toxicity', 'obscene', 'threat', 'insult', 'identity_attack', 'sexual_explicit'],\n",
       "        num_rows: 1804874\n",
       "    })\n",
       "    validation: Dataset({\n",
       "        features: ['text', 'toxicity', 'severe_toxicity', 'obscene', 'threat', 'insult', 'identity_attack', 'sexual_explicit'],\n",
       "        num_rows: 97320\n",
       "    })\n",
       "    test: Dataset({\n",
       "        features: ['text', 'toxicity', 'severe_toxicity', 'obscene', 'threat', 'insult', 'identity_attack', 'sexual_explicit'],\n",
       "        num_rows: 97320\n",
       "    })\n",
       "})"
      ]
     },
     "execution_count": 10,
     "metadata": {},
     "output_type": "execute_result"
    }
   ],
   "source": [
    "from datasets import load_dataset\n",
    "import pandas as pd\n",
    "\n",
    "ds = load_dataset(\"google/civil_comments\")\n",
    "print(type(ds))\n",
    "ds"
   ]
  },
  {
   "cell_type": "code",
   "execution_count": 11,
   "id": "5b50e0cd",
   "metadata": {},
   "outputs": [
    {
     "name": "stdout",
     "output_type": "stream",
     "text": [
      "{'text': \"This is so cool. It's like, 'would you want your mother to read this??' Really great idea, well done!\", 'toxicity': 0.0, 'severe_toxicity': 0.0, 'obscene': 0.0, 'threat': 0.0, 'insult': 0.0, 'identity_attack': 0.0, 'sexual_explicit': 0.0}\n",
      "['text', 'toxicity', 'severe_toxicity', 'obscene', 'threat', 'insult', 'identity_attack', 'sexual_explicit']\n",
      "           toxicity  severe_toxicity       obscene        threat  \\\n",
      "count  1.804874e+06     1.804874e+06  1.804874e+06  1.804874e+06   \n",
      "mean   1.030173e-01     4.582100e-03  1.387721e-02  9.311274e-03   \n",
      "std    1.970757e-01     2.286128e-02  6.460419e-02  4.942218e-02   \n",
      "min    0.000000e+00     0.000000e+00  0.000000e+00  0.000000e+00   \n",
      "25%    0.000000e+00     0.000000e+00  0.000000e+00  0.000000e+00   \n",
      "50%    0.000000e+00     0.000000e+00  0.000000e+00  0.000000e+00   \n",
      "75%    1.666667e-01     0.000000e+00  0.000000e+00  0.000000e+00   \n",
      "max    1.000000e+00     1.000000e+00  1.000000e+00  1.000000e+00   \n",
      "\n",
      "             insult  identity_attack  sexual_explicit  \n",
      "count  1.804874e+06     1.804874e+06     1.804874e+06  \n",
      "mean   8.115274e-02     2.263572e-02     6.605973e-03  \n",
      "std    1.760657e-01     7.873157e-02     4.529782e-02  \n",
      "min    0.000000e+00     0.000000e+00     0.000000e+00  \n",
      "25%    0.000000e+00     0.000000e+00     0.000000e+00  \n",
      "50%    0.000000e+00     0.000000e+00     0.000000e+00  \n",
      "75%    9.090909e-02     0.000000e+00     0.000000e+00  \n",
      "max    1.000000e+00     1.000000e+00     1.000000e+00  \n"
     ]
    }
   ],
   "source": [
    "# Access the train, validation, and test splits\n",
    "train_data = ds['train']\n",
    "validation_data = ds['validation']\n",
    "test_data = ds['test']\n",
    "\n",
    "# Example: Display the first row of the training data\n",
    "print(train_data[0])\n",
    "\n",
    "# Display all column names in the dataset\n",
    "print(train_data.column_names)\n",
    "\n",
    "# View statistics about the columns (e.g., mean toxicity, distribution)\n",
    "train_data_df = train_data.to_pandas()\n",
    "print(train_data_df.describe())"
   ]
  },
  {
   "cell_type": "code",
   "execution_count": 1,
   "id": "2b51d3cb",
   "metadata": {},
   "outputs": [
    {
     "name": "stderr",
     "output_type": "stream",
     "text": [
      "C:\\Users\\yesit\\AppData\\Roaming\\Python\\Python312\\site-packages\\tqdm\\auto.py:21: TqdmWarning: IProgress not found. Please update jupyter and ipywidgets. See https://ipywidgets.readthedocs.io/en/stable/user_install.html\n",
      "  from .autonotebook import tqdm as notebook_tqdm\n",
      "Map: 100%|██████████| 1804874/1804874 [03:59<00:00, 7543.69 examples/s]\n",
      "Map: 100%|██████████| 97320/97320 [00:11<00:00, 8481.14 examples/s]\n",
      "Map: 100%|██████████| 97320/97320 [00:11<00:00, 8162.32 examples/s]"
     ]
    },
    {
     "name": "stdout",
     "output_type": "stream",
     "text": [
      "{'text': \"This is so cool. It's like, 'would you want your mother to read this??' Really great idea, well done!\", 'toxicity': 0.0, 'severe_toxicity': 0.0, 'obscene': 0.0, 'threat': 0.0, 'insult': 0.0, 'identity_attack': 0.0, 'sexual_explicit': 0.0}\n"
     ]
    },
    {
     "name": "stderr",
     "output_type": "stream",
     "text": [
      "\n"
     ]
    }
   ],
   "source": [
    "from datasets import load_dataset\n",
    "\n",
    "# Load the Civil Comments dataset\n",
    "ds = load_dataset(\"google/civil_comments\")\n",
    "\n",
    "# Specify the label columns to transform\n",
    "label_columns = [\n",
    "    'toxicity', 'severe_toxicity', 'obscene', \n",
    "    'threat', 'insult', 'identity_attack', 'sexual_explicit'\n",
    "]\n",
    "\n",
    "# Define the transformation function\n",
    "def transform_labels(example):\n",
    "    for label in label_columns:\n",
    "        example[label] = 1 if example[label] > 0 else 0\n",
    "    return example\n",
    "\n",
    "# Apply the transformation to all splits\n",
    "transformed_ds = ds.map(transform_labels)\n",
    "\n",
    "# Display a few rows from the train split to confirm the transformation\n",
    "print(transformed_ds['train'][0])  # First example in the train set\n"
   ]
  }
 ],
 "metadata": {
  "kernelspec": {
   "display_name": "Python 3",
   "language": "python",
   "name": "python3"
  },
  "language_info": {
   "codemirror_mode": {
    "name": "ipython",
    "version": 3
   },
   "file_extension": ".py",
   "mimetype": "text/x-python",
   "name": "python",
   "nbconvert_exporter": "python",
   "pygments_lexer": "ipython3",
   "version": "3.12.2"
  }
 },
 "nbformat": 4,
 "nbformat_minor": 5
}
